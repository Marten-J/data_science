{
 "cells": [
  {
   "cell_type": "code",
   "execution_count": 1,
   "metadata": {},
   "outputs": [
    {
     "data": {
      "text/plain": [
       "['data', 'target', 'target_names', 'DESCR', 'feature_names', 'filename']"
      ]
     },
     "execution_count": 1,
     "metadata": {},
     "output_type": "execute_result"
    }
   ],
   "source": [
    "%matplotlib inline\n",
    "import numpy as np\n",
    "from sklearn import datasets\n",
    "from sklearn.linear_model import LogisticRegression\n",
    "import matplotlib.pyplot as plt\n",
    "# http://scikit-learn.org/stable/modules/generated/sklearn.datasets.load_iris.html\n",
    "iris = datasets.load_iris()\n",
    "list(iris.keys())"
   ]
  },
  {
   "cell_type": "code",
   "execution_count": 28,
   "metadata": {},
   "outputs": [
    {
     "name": "stdout",
     "output_type": "stream",
     "text": [
      "Properility: First value No, second value Yes:\n",
      "[[0.96762366 0.03237634]]\n",
      "Is Iris-Virginica (0 = false, 1 = true):\n",
      "[0]\n"
     ]
    }
   ],
   "source": [
    "# First calculating the properility for the sepal length\n",
    "x_sl = iris[\"data\"][:, 0:1] \n",
    "y_sl = (iris[\"target\"] == 2).astype(np.int)  # array of 1 if Iris-Virginica, else 0\n",
    "# Create and train the regression model\n",
    "log_reg_sl = LogisticRegression()\n",
    "log_reg_sl.fit(x_sl, y_sl)\n",
    "# Get predicition\n",
    "print(\"Properility: First value No, second value Yes:\")\n",
    "print(log_reg_sl.predict_proba([[4.8]]))\n",
    "print(\"Is Iris-Virginica (0 = false, 1 = true):\")\n",
    "print(log_reg_sl.predict([[4.8]]))"
   ]
  },
  {
   "cell_type": "code",
   "execution_count": 33,
   "metadata": {},
   "outputs": [
    {
     "name": "stdout",
     "output_type": "stream",
     "text": [
      "Properility: First value No, second value Yes:\n",
      "[[0.5933503 0.4066497]]\n",
      "Is Iris-Virginica (0 = false, 1 = true):\n",
      "[0]\n"
     ]
    }
   ],
   "source": [
    "# Now calculating the properility for the sepal width\n",
    "x_sw = iris[\"data\"][:, 1:2] \n",
    "y_sw = (iris[\"target\"] == 2).astype(np.int) \n",
    "# Create and train the regression model\n",
    "log_reg_sw = LogisticRegression()\n",
    "log_reg_sw.fit(x_sw, y_sw)\n",
    "# Get predicition\n",
    "print(\"Properility: First value No, second value Yes:\")\n",
    "print(log_reg_sw.predict_proba([[2.5]]))\n",
    "print(\"Is Iris-Virginica (0 = false, 1 = true):\")\n",
    "print(log_reg_sw.predict([[2.5]]))"
   ]
  },
  {
   "cell_type": "code",
   "execution_count": 34,
   "metadata": {},
   "outputs": [
    {
     "name": "stdout",
     "output_type": "stream",
     "text": [
      "Properility: First value No, second value Yes:\n",
      "[[0.17910091 0.82089909]]\n",
      "Is Iris-Virginica (0 = false, 1 = true):\n",
      "[1]\n"
     ]
    }
   ],
   "source": [
    "# Now calculating the properility for the pedal length\n",
    "x_pl = iris[\"data\"][:, 2:3] \n",
    "y_pl = (iris[\"target\"] == 2).astype(np.int) \n",
    "# Create and train the regression model\n",
    "log_reg_pl = LogisticRegression()\n",
    "log_reg_pl.fit(x_pl, y_pl)\n",
    "# Get predicition\n",
    "print(\"Properility: First value No, second value Yes:\")\n",
    "print(log_reg_pl.predict_proba([[5.3]]))\n",
    "print(\"Is Iris-Virginica (0 = false, 1 = true):\")\n",
    "print(log_reg_pl.predict([[5.3]]))"
   ]
  },
  {
   "cell_type": "code",
   "execution_count": 38,
   "metadata": {},
   "outputs": [
    {
     "name": "stdout",
     "output_type": "stream",
     "text": [
      "Properility: First value No, second value Yes:\n",
      "[[0.03898943 0.96101057]]\n",
      "Is Iris-Virginica (0 = false, 1 = true):\n",
      "[1]\n"
     ]
    }
   ],
   "source": [
    "# Last calculating the properility for the pedal width\n",
    "x_pw = iris[\"data\"][:, 3:] \n",
    "y_pw = (iris[\"target\"] == 2).astype(np.int) \n",
    "# Create and train the regression model\n",
    "log_reg_pw = LogisticRegression()\n",
    "log_reg_pw.fit(x_pw, y_pw)\n",
    "# Get predicition\n",
    "print(\"Properility: First value No, second value Yes:\")\n",
    "print(log_reg_pw.predict_proba([[2.4]]))\n",
    "print(\"Is Iris-Virginica (0 = false, 1 = true):\")\n",
    "print(log_reg_pw.predict([[2.4]]))"
   ]
  },
  {
   "cell_type": "code",
   "execution_count": 39,
   "metadata": {},
   "outputs": [
    {
     "name": "stdout",
     "output_type": "stream",
     "text": [
      "Properility: First value No, second value Yes:\n",
      "[[0.023505 0.976495]]\n",
      "Is Iris-Virginica (0 = false, 1 = true):\n",
      "[1]\n"
     ]
    }
   ],
   "source": [
    "# calculating the properility with all values\n",
    "x = iris[\"data\"][:, :] \n",
    "y = (iris[\"target\"] == 2).astype(np.int) \n",
    "# Create and train the regression model\n",
    "log_reg = LogisticRegression()\n",
    "log_reg.fit(x, y)\n",
    "# Get predicition\n",
    "print(\"Properility: First value No, second value Yes:\")\n",
    "print(log_reg.predict_proba([[4.8,2.5,5.3,2.4]]))\n",
    "print(\"Is Iris-Virginica (0 = false, 1 = true):\")\n",
    "print(log_reg.predict([[4.8,2.5,5.3,2.4]]))"
   ]
  }
 ],
 "metadata": {
  "kernelspec": {
   "display_name": "Python 3",
   "language": "python",
   "name": "python3"
  },
  "language_info": {
   "codemirror_mode": {
    "name": "ipython",
    "version": 3
   },
   "file_extension": ".py",
   "mimetype": "text/x-python",
   "name": "python",
   "nbconvert_exporter": "python",
   "pygments_lexer": "ipython3",
   "version": "3.7.6"
  }
 },
 "nbformat": 4,
 "nbformat_minor": 2
}
