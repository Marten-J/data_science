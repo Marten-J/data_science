{
 "cells": [
  {
   "cell_type": "code",
   "execution_count": 247,
   "metadata": {},
   "outputs": [],
   "source": [
    "import numpy as np\n",
    "\n",
    "url = 'https://raw.githubusercontent.com/edlich/eternalrepo/master/DS-WAHLFACH/countries.csv'\n",
    "countries = np.genfromtxt(url, encoding=\"UTF-8\", delimiter=',', dtype=object)\n",
    "# table without header\n",
    "countries_num = countries[1:, :]"
   ]
  },
  {
   "cell_type": "code",
   "execution_count": 233,
   "metadata": {},
   "outputs": [
    {
     "name": "stdout",
     "output_type": "stream",
     "text": [
      "rows: 6\n",
      "columns:5\n",
      "Number of countires:5\n",
      "Average people: 60463010\n"
     ]
    }
   ],
   "source": [
    "# Number of rows\n",
    "print(\"rows: \" + str(np.size(countries,0)))\n",
    "# Number of columns\n",
    "print(\"columns:\" + str(np.size(countries,1)))\n",
    "# Number of countires (skip first row)\n",
    "print(\"Number of countires:\" + str(np.size(countries_num,0)))\n",
    "# Average of people between all countires\n",
    "people = countries_num[:,[1]].astype(int)\n",
    "print(\"Average people: \" +  str(people.std().astype(int)))"
   ]
  },
  {
   "cell_type": "code",
   "execution_count": 234,
   "metadata": {},
   "outputs": [
    {
     "name": "stdout",
     "output_type": "stream",
     "text": [
      "[[b'Japan' b'126045000' b'377835' b'4938' b'YEN']\n",
      " [b'Canada' b'36503097' b'9984670' b'1529' b'CAD']\n",
      " [b'Italy' b'60501718' b'301338' b'1850' b'EUR']\n",
      " [b'Brazilia' b'208360000' b'8515770' b'1798' b'REAL']]\n"
     ]
    }
   ],
   "source": [
    "# Print last 4 rows\n",
    "print(countries[-4:])"
   ]
  },
  {
   "cell_type": "code",
   "execution_count": 235,
   "metadata": {},
   "outputs": [
    {
     "name": "stdout",
     "output_type": "stream",
     "text": [
      "[[b'Germany' b'82521653' b'357385' b'3466' b'EUR']\n",
      " [b'Italy' b'60501718' b'301338' b'1850' b'EUR']]\n"
     ]
    }
   ],
   "source": [
    "# Show all the row of countries who have the EURO\n",
    "print(countries[countries[:, 4].astype('str') == 'EUR', :])"
   ]
  },
  {
   "cell_type": "code",
   "execution_count": 236,
   "metadata": {},
   "outputs": [
    {
     "name": "stdout",
     "output_type": "stream",
     "text": [
      "[[b'Name' b'Currency']\n",
      " [b'Germany' b'EUR']\n",
      " [b'Japan' b'YEN']\n",
      " [b'Canada' b'CAD']\n",
      " [b'Italy' b'EUR']\n",
      " [b'Brazilia' b'REAL']]\n"
     ]
    }
   ],
   "source": [
    "# Show only name and Currency in a new data frame\n",
    "names_currencies = countries[:, [0, 4]]\n",
    "print(names_currencies)"
   ]
  },
  {
   "cell_type": "code",
   "execution_count": 237,
   "metadata": {},
   "outputs": [
    {
     "name": "stdout",
     "output_type": "stream",
     "text": [
      "[[b'Germany' b'82521653' b'357385' b'3466' b'EUR']\n",
      " [b'Japan' b'126045000' b'377835' b'4938' b'YEN']]\n"
     ]
    }
   ],
   "source": [
    "# Show only the rows/countries that have more than 2000 BIP (it is in Milliarden USD Bruttoinlandsprodukt)\n",
    "print(countries_num[countries_num[:, 3].astype('int') > 2000, :])"
   ]
  },
  {
   "cell_type": "code",
   "execution_count": 238,
   "metadata": {},
   "outputs": [
    {
     "name": "stdout",
     "output_type": "stream",
     "text": [
      "[[b'Germany' b'82521653' b'357385' b'3466' b'EUR']\n",
      " [b'Japan' b'126045000' b'377835' b'4938' b'YEN']\n",
      " [b'Italy' b'60501718' b'301338' b'1850' b'EUR']]\n"
     ]
    }
   ],
   "source": [
    "# Select all countries where with inhabitants between 50 and 150 Mio\n",
    "condition = (countries_num[:, 1].astype('int') > 50000000) & (countries_num[:, 1].astype('int') < 150000000)\n",
    "print(countries_num[condition])"
   ]
  },
  {
   "cell_type": "code",
   "execution_count": 239,
   "metadata": {},
   "outputs": [
    {
     "name": "stdout",
     "output_type": "stream",
     "text": [
      "[[b'Name' b'People' b'Area' b'Bip' b'Currency']\n",
      " [b'Germany' b'82521653' b'357385' b'3466' b'EUR']\n",
      " [b'Japan' b'126045000' b'377835' b'4938' b'YEN']\n",
      " [b'Canada' b'36503097' b'9984670' b'1529' b'CAD']\n",
      " [b'Italy' b'60501718' b'301338' b'1850' b'EUR']\n",
      " [b'Brazilia' b'208360000' b'8515770' b'1798' b'REAL']]\n"
     ]
    }
   ],
   "source": [
    "# Change BIP to Bip\n",
    "countries[np.argwhere(countries == b'BIP')[0,0], np.argwhere(countries == b'BIP')[0,1]] = b'Bip'\n",
    "print(countries)"
   ]
  },
  {
   "cell_type": "code",
   "execution_count": 240,
   "metadata": {},
   "outputs": [
    {
     "name": "stdout",
     "output_type": "stream",
     "text": [
      "13581\n"
     ]
    }
   ],
   "source": [
    "# Calculate the Bip sum\n",
    "print(countries_num[:,[3]].astype(int).sum())"
   ]
  },
  {
   "cell_type": "code",
   "execution_count": 241,
   "metadata": {},
   "outputs": [
    {
     "name": "stdout",
     "output_type": "stream",
     "text": [
      "60463010\n"
     ]
    }
   ],
   "source": [
    "# Calculate the average people of all countries\n",
    "print(countries_num[:,[1]].astype(int).std().astype(int))"
   ]
  },
  {
   "cell_type": "code",
   "execution_count": 242,
   "metadata": {},
   "outputs": [
    {
     "name": "stdout",
     "output_type": "stream",
     "text": [
      "[[b'Brazilia' b'208360000' b'8515770' b'1798' b'REAL']\n",
      " [b'Canada' b'36503097' b'9984670' b'1529' b'CAD']\n",
      " [b'Germany' b'82521653' b'357385' b'3466' b'EUR']\n",
      " [b'Italy' b'60501718' b'301338' b'1850' b'EUR']\n",
      " [b'Japan' b'126045000' b'377835' b'4938' b'YEN']]\n"
     ]
    }
   ],
   "source": [
    "# Sort by name alphabetically\n",
    "print(countries_num[countries_num[:,0].argsort()])"
   ]
  },
  {
   "cell_type": "markdown",
   "metadata": {},
   "source": []
  },
  {
   "cell_type": "code",
   "execution_count": 248,
   "metadata": {},
   "outputs": [
    {
     "name": "stdout",
     "output_type": "stream",
     "text": [
      "[[b'Germany' b'82521653' 'SMALL' b'3466' b'EUR']\n",
      " [b'Japan' b'126045000' 'SMALL' b'4938' b'YEN']\n",
      " [b'Canada' b'36503097' 'BIG' b'1529' b'CAD']\n",
      " [b'Italy' b'60501718' 'SMALL' b'1850' b'EUR']\n",
      " [b'Brazilia' b'208360000' 'BIG' b'1798' b'REAL']]\n"
     ]
    }
   ],
   "source": [
    "# Create a new data frame from the original where the area is changed as follows: \n",
    "# all countries with > 1000000 get BIG and <= 1000000 get SMALL in the cell replaced!\n",
    "#countries_num[countries_num.astype(int) > 1000000 == 1, 1] = b'BIG'\n",
    "#countries_num\n",
    "np.place(countries_num[:,2], countries_num[:,2].astype(int) > 1000000, 'BIG')\n",
    "np.place(countries_num[:,2], countries_num[:,2] != 'BIG', 'SMALL')\n",
    "print(countries_num)"
   ]
  },
  {
   "cell_type": "code",
   "execution_count": null,
   "metadata": {},
   "outputs": [],
   "source": []
  }
 ],
 "metadata": {
  "kernelspec": {
   "display_name": "Python 3",
   "language": "python",
   "name": "python3"
  },
  "language_info": {
   "codemirror_mode": {
    "name": "ipython",
    "version": 3
   },
   "file_extension": ".py",
   "mimetype": "text/x-python",
   "name": "python",
   "nbconvert_exporter": "python",
   "pygments_lexer": "ipython3",
   "version": "3.7.6"
  }
 },
 "nbformat": 4,
 "nbformat_minor": 4
}
