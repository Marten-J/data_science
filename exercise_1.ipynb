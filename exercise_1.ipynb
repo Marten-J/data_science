{
 "cells": [
  {
   "cell_type": "code",
   "execution_count": 41,
   "metadata": {},
   "outputs": [],
   "source": [
    "# Exercise 1\n",
    "import numpy as np\n",
    "import pandas as pd\n",
    "from sklearn import preprocessing\n",
    "# for Box-Cox Transformation\n",
    "from scipy import stats\n",
    "# Create Test Data movie gendres\n",
    "data = {'Movie Title':  ['California Man', 'He is not reall into dudes', 'Beautiful Woman', 'Kevin Longblade', 'Robo Slayer 3000', 'Amped', '?'],\n",
    "        '# of kicks': [3, 2, 1, 101, 99, 98, 18],'# of kisses': [104, 100, 81, 10, 5, 2, 90], \n",
    "        'type of movie': ['Romance', 'Romance', 'Romance', 'Action', 'Action', 'Action', '?']}\n",
    "df = pd.DataFrame(data)"
   ]
  },
  {
   "cell_type": "code",
   "execution_count": 42,
   "metadata": {},
   "outputs": [
    {
     "data": {
      "text/html": [
       "<div>\n",
       "<style scoped>\n",
       "    .dataframe tbody tr th:only-of-type {\n",
       "        vertical-align: middle;\n",
       "    }\n",
       "\n",
       "    .dataframe tbody tr th {\n",
       "        vertical-align: top;\n",
       "    }\n",
       "\n",
       "    .dataframe thead th {\n",
       "        text-align: right;\n",
       "    }\n",
       "</style>\n",
       "<table border=\"1\" class=\"dataframe\">\n",
       "  <thead>\n",
       "    <tr style=\"text-align: right;\">\n",
       "      <th></th>\n",
       "      <th>Movie Title</th>\n",
       "      <th>kicks</th>\n",
       "      <th>kisses</th>\n",
       "      <th>type of movie</th>\n",
       "    </tr>\n",
       "  </thead>\n",
       "  <tbody>\n",
       "    <tr>\n",
       "      <th>0</th>\n",
       "      <td>California Man</td>\n",
       "      <td>1.148810</td>\n",
       "      <td>11.881328</td>\n",
       "      <td>Romance</td>\n",
       "    </tr>\n",
       "    <tr>\n",
       "      <th>1</th>\n",
       "      <td>He is not reall into dudes</td>\n",
       "      <td>0.712910</td>\n",
       "      <td>11.677453</td>\n",
       "      <td>Romance</td>\n",
       "    </tr>\n",
       "    <tr>\n",
       "      <th>2</th>\n",
       "      <td>Beautiful Woman</td>\n",
       "      <td>0.000000</td>\n",
       "      <td>10.629573</td>\n",
       "      <td>Romance</td>\n",
       "    </tr>\n",
       "    <tr>\n",
       "      <th>3</th>\n",
       "      <td>Kevin Longblade</td>\n",
       "      <td>5.592510</td>\n",
       "      <td>3.568924</td>\n",
       "      <td>Action</td>\n",
       "    </tr>\n",
       "    <tr>\n",
       "      <th>4</th>\n",
       "      <td>Robo Slayer 3000</td>\n",
       "      <td>5.563501</td>\n",
       "      <td>2.173552</td>\n",
       "      <td>Action</td>\n",
       "    </tr>\n",
       "    <tr>\n",
       "      <th>5</th>\n",
       "      <td>Amped</td>\n",
       "      <td>5.548795</td>\n",
       "      <td>0.786273</td>\n",
       "      <td>Action</td>\n",
       "    </tr>\n",
       "    <tr>\n",
       "      <th>6</th>\n",
       "      <td>?</td>\n",
       "      <td>3.255471</td>\n",
       "      <td>11.143677</td>\n",
       "      <td>?</td>\n",
       "    </tr>\n",
       "  </tbody>\n",
       "</table>\n",
       "</div>"
      ],
      "text/plain": [
       "                  Movie Title     kicks     kisses type of movie\n",
       "0              California Man  1.148810  11.881328       Romance\n",
       "1  He is not reall into dudes  0.712910  11.677453       Romance\n",
       "2             Beautiful Woman  0.000000  10.629573       Romance\n",
       "3             Kevin Longblade  5.592510   3.568924        Action\n",
       "4            Robo Slayer 3000  5.563501   2.173552        Action\n",
       "5                       Amped  5.548795   0.786273        Action\n",
       "6                           ?  3.255471  11.143677             ?"
      ]
     },
     "execution_count": 42,
     "metadata": {},
     "output_type": "execute_result"
    }
   ],
   "source": [
    "# funct: You normalize your data in another tabl\n",
    "def normalize(data):\n",
    "    return stats.boxcox(data)   \n",
    "\n",
    "# normalize kicks\n",
    "kicks_normlized = normalize(data['# of kicks'])\n",
    "# normalize kisses\n",
    "kisses_normlized = normalize(data['# of kisses'])\n",
    "\n",
    "df_normalized = pd.DataFrame({'Movie Title': data['Movie Title'], 'kicks': kicks_normlized[0], 'kisses': kisses_normlized[0], 'type of movie': data['type of movie']})\n",
    "df_normalized"
   ]
  },
  {
   "cell_type": "code",
   "execution_count": 92,
   "metadata": {},
   "outputs": [
    {
     "data": {
      "text/plain": [
       "[['California Man', 2.23207325890133, 'Romance'],\n",
       " ['He is not reall into dudes', 2.5979865684772445, 'Romance'],\n",
       " ['Beautiful Woman', 3.2958147605346393, 'Romance'],\n",
       " ['Kevin Longblade', 7.927082134217428, 'Action'],\n",
       " ['Robo Slayer 3000', 9.262296311086196, 'Action'],\n",
       " ['Amped', 10.608257981276099, 'Action']]"
      ]
     },
     "execution_count": 92,
     "metadata": {},
     "output_type": "execute_result"
    }
   ],
   "source": [
    "# funct: You code a simple euclid distance function\n",
    "def distance(point_1, point_2):\n",
    "    return np.sqrt((point_1[0] - point_2[0]) ** 2+ (point_1[1] - point_2[1]) ** 2)\n",
    "\n",
    "# funct: You take a point and calculate the distance to all points\n",
    "point = df_normalized.loc[6]\n",
    "dis = [[],[],[],[],[], []]\n",
    "for index, row in df.iterrows():\n",
    "    if (index < 6):\n",
    "        dis[index] = [df_normalized['Movie Title'][index], distance([df_normalized['kicks'][index], df_normalized['kisses'][index]], [point.kicks, point.kisses]), df_normalized['type of movie'][index]]\n",
    "        \n",
    "dis"
   ]
  },
  {
   "cell_type": "code",
   "execution_count": 93,
   "metadata": {},
   "outputs": [
    {
     "data": {
      "text/plain": [
       "[['California Man', 2.23207325890133, 'Romance'],\n",
       " ['He is not reall into dudes', 2.5979865684772445, 'Romance'],\n",
       " ['Beautiful Woman', 3.2958147605346393, 'Romance'],\n",
       " ['Kevin Longblade', 7.927082134217428, 'Action'],\n",
       " ['Robo Slayer 3000', 9.262296311086196, 'Action'],\n",
       " ['Amped', 10.608257981276099, 'Action']]"
      ]
     },
     "execution_count": 93,
     "metadata": {},
     "output_type": "execute_result"
    }
   ],
   "source": [
    "from operator import itemgetter\n",
    "sorted(dis, key=itemgetter(1))"
   ]
  },
  {
   "cell_type": "code",
   "execution_count": 100,
   "metadata": {},
   "outputs": [
    {
     "name": "stdout",
     "output_type": "stream",
     "text": [
      "is romance\n"
     ]
    }
   ],
   "source": [
    "# funct: You aggregate by target variable\n",
    "k = 3\n",
    "count_r = 0\n",
    "count_a = 0\n",
    "\n",
    "for x in dis[0:k]:\n",
    "    if (x[2] == 'Romance'):\n",
    "        count_r += 1\n",
    "    else:\n",
    "        count_a += 1\n",
    "        \n",
    "if (count_r >= count_a):\n",
    "    print('is romance')\n",
    "else:\n",
    "    print('is action')"
   ]
  },
  {
   "cell_type": "code",
   "execution_count": 101,
   "metadata": {},
   "outputs": [
    {
     "name": "stdout",
     "output_type": "stream",
     "text": [
      "is romance\n"
     ]
    }
   ],
   "source": [
    "# funct: you take the max to determine the targe class\n",
    "count_r = 0\n",
    "count_a = 0\n",
    "\n",
    "for x in dis:\n",
    "    if (x[2] == 'Romance'):\n",
    "        count_r += 1\n",
    "    else:\n",
    "        count_a += 1\n",
    "        \n",
    "if (count_r >= count_a):\n",
    "    print('is romance')\n",
    "else:\n",
    "    print('is action')"
   ]
  },
  {
   "cell_type": "code",
   "execution_count": null,
   "metadata": {},
   "outputs": [],
   "source": []
  }
 ],
 "metadata": {
  "kernelspec": {
   "display_name": "Python 3",
   "language": "python",
   "name": "python3"
  },
  "language_info": {
   "codemirror_mode": {
    "name": "ipython",
    "version": 3
   },
   "file_extension": ".py",
   "mimetype": "text/x-python",
   "name": "python",
   "nbconvert_exporter": "python",
   "pygments_lexer": "ipython3",
   "version": "3.7.6"
  }
 },
 "nbformat": 4,
 "nbformat_minor": 4
}
