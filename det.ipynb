{
 "cells": [
  {
   "cell_type": "code",
   "execution_count": 36,
   "metadata": {},
   "outputs": [],
   "source": [
    "from sklearn.datasets import load_iris\n",
    "from sklearn.tree import DecisionTreeClassifier\n",
    "from sklearn import preprocessing\n",
    "from sklearn.tree import export_graphviz\n",
    "import numpy as np\n",
    "import pandas as pd\n",
    "data = {'Age':  [\"<=30\",\"<=30\",\"31...40\",\">40\",\">40\",\">40\",\"31...40\",\"<=30\",\"<=30\",\">40\",\"<=30\",\"31...40\",\"31...40\",\">40\",\"<=30\",\"<=30\",\"<=30\",\"31...40\",\">40\",\"31...40\"],\n",
    "        'Income': [\"High\",\"High\",\"High\",\"Medium\",\"Low\",\"Low\",\"Low\",\"Medium\",\"Low\",\"Medium\",\"Medium\",\"Medium\",\"High\",\"Medium\",\"Medium\",\"Low\",\"Low\",\"Low\",\"Medium\",\"High\"],\n",
    "        'Student': [\"No\",\"No\",\"No\",\"No\",\"Yes\",\"Yes\",\"Yes\",\"No\",\"Yes\",\"Yes\",\"Yes\",\"No\",\"Yes\",\"No\",\"No\",\"No\",\"No\",\"Yes\",\"Yes\",\"No\"], \n",
    "        'Credit_rating': [\"Fair\",\"Excellent\",\"Fair\",\"Fair\",\"Fair\",\"Excellent\",\"Excellent\",\"Fair\",\"Fair\",\"Fair\",\"Excellent\",\"Excellent\",\"Fair\",\"Excellent\",\"Excellent\",\"Fair\",\"Excellent\",\"Fair\",\"Excellent\",\"Excellent\"], \n",
    "        'Buys_computer': [0,0,1,1,1,0,1,0,1,1,1,1,1,0,0,0,0,1,1,1]}\n",
    "    \n",
    "df = pd.DataFrame(data)"
   ]
  },
  {
   "cell_type": "code",
   "execution_count": 37,
   "metadata": {},
   "outputs": [
    {
     "data": {
      "text/plain": [
       "DecisionTreeClassifier(ccp_alpha=0.0, class_weight=None, criterion='gini',\n",
       "                       max_depth=6, max_features=None, max_leaf_nodes=None,\n",
       "                       min_impurity_decrease=0.0, min_impurity_split=None,\n",
       "                       min_samples_leaf=1, min_samples_split=2,\n",
       "                       min_weight_fraction_leaf=0.0, presort='deprecated',\n",
       "                       random_state=None, splitter='best')"
      ]
     },
     "execution_count": 37,
     "metadata": {},
     "output_type": "execute_result"
    }
   ],
   "source": [
    "df2 = df.apply(preprocessing.LabelEncoder().fit_transform)\n",
    "y = df2[\"Buys_computer\"]\n",
    "X = df2[[\"Age\", \"Income\", \"Student\", \"Credit_rating\"]]\n",
    "tree_clf = DecisionTreeClassifier()\n",
    "tree_clf.fit(X, y)"
   ]
  },
  {
   "cell_type": "code",
   "execution_count": 47,
   "metadata": {},
   "outputs": [],
   "source": [
    "export_graphviz(\n",
    "         tree_clf,\n",
    "         out_file=r\"C:\\Users\\marte\\Desktop\\Master\\Data Science\\buy.dot\",\n",
    "         feature_names=np.array([\"Age\", \"Income\", \"Student\", \"Credit_rating\"]),\n",
    "         class_names=np.array([\"No\", \"Yes\"]),\n",
    "         rounded=True,\n",
    "         filled=True)"
   ]
  },
  {
   "cell_type": "code",
   "execution_count": null,
   "metadata": {},
   "outputs": [],
   "source": []
  }
 ],
 "metadata": {
  "kernelspec": {
   "display_name": "Python 3",
   "language": "python",
   "name": "python3"
  },
  "language_info": {
   "codemirror_mode": {
    "name": "ipython",
    "version": 3
   },
   "file_extension": ".py",
   "mimetype": "text/x-python",
   "name": "python",
   "nbconvert_exporter": "python",
   "pygments_lexer": "ipython3",
   "version": "3.7.6"
  }
 },
 "nbformat": 4,
 "nbformat_minor": 4
}
